{
 "cells": [
  {
   "cell_type": "code",
   "execution_count": 1,
   "id": "74989416",
   "metadata": {},
   "outputs": [],
   "source": [
    "import os\n",
    "import joblib\n",
    "import multiprocessing\n",
    "import numpy as np\n",
    "import pandas as pd\n",
    "import seaborn as sns\n",
    "import matplotlib.pyplot as plt\n",
    "from sklearn.model_selection import cross_val_score\n",
    "from sklearn.linear_model import LogisticRegression\n",
    "from sklearn import svm\n",
    "from sklearn import neighbors\n",
    "from sklearn import tree\n",
    "from sklearn.tree import DecisionTreeClassifier\n",
    "                                                                                        \n",
    "from sklearn.metrics import fbeta_score\n",
    "from sklearn.naive_bayes import MultinomialNB\n",
    "from joblib import Parallel, delayed\n",
    "\n",
    "sns.set(style=\"whitegrid\", color_codes=True)\n"
   ]
  },
  {
   "cell_type": "code",
   "execution_count": 91,
   "id": "cf072138",
   "metadata": {},
   "outputs": [],
   "source": [
    "df = pd.read_csv(\"Indian Liver Patient Dataset (ILPD).csv\", header=None)"
   ]
  },
  {
   "cell_type": "code",
   "execution_count": 92,
   "id": "48e6ac92",
   "metadata": {},
   "outputs": [
    {
     "data": {
      "text/html": [
       "<div>\n",
       "<style scoped>\n",
       "    .dataframe tbody tr th:only-of-type {\n",
       "        vertical-align: middle;\n",
       "    }\n",
       "\n",
       "    .dataframe tbody tr th {\n",
       "        vertical-align: top;\n",
       "    }\n",
       "\n",
       "    .dataframe thead th {\n",
       "        text-align: right;\n",
       "    }\n",
       "</style>\n",
       "<table border=\"1\" class=\"dataframe\">\n",
       "  <thead>\n",
       "    <tr style=\"text-align: right;\">\n",
       "      <th></th>\n",
       "      <th>0</th>\n",
       "      <th>1</th>\n",
       "      <th>2</th>\n",
       "      <th>3</th>\n",
       "      <th>4</th>\n",
       "      <th>5</th>\n",
       "      <th>6</th>\n",
       "      <th>7</th>\n",
       "      <th>8</th>\n",
       "      <th>9</th>\n",
       "      <th>10</th>\n",
       "    </tr>\n",
       "  </thead>\n",
       "  <tbody>\n",
       "    <tr>\n",
       "      <th>0</th>\n",
       "      <td>65</td>\n",
       "      <td>Female</td>\n",
       "      <td>0.7</td>\n",
       "      <td>0.1</td>\n",
       "      <td>187</td>\n",
       "      <td>16</td>\n",
       "      <td>18</td>\n",
       "      <td>6.8</td>\n",
       "      <td>3.3</td>\n",
       "      <td>0.90</td>\n",
       "      <td>1</td>\n",
       "    </tr>\n",
       "    <tr>\n",
       "      <th>1</th>\n",
       "      <td>62</td>\n",
       "      <td>Male</td>\n",
       "      <td>10.9</td>\n",
       "      <td>5.5</td>\n",
       "      <td>699</td>\n",
       "      <td>64</td>\n",
       "      <td>100</td>\n",
       "      <td>7.5</td>\n",
       "      <td>3.2</td>\n",
       "      <td>0.74</td>\n",
       "      <td>1</td>\n",
       "    </tr>\n",
       "    <tr>\n",
       "      <th>2</th>\n",
       "      <td>62</td>\n",
       "      <td>Male</td>\n",
       "      <td>7.3</td>\n",
       "      <td>4.1</td>\n",
       "      <td>490</td>\n",
       "      <td>60</td>\n",
       "      <td>68</td>\n",
       "      <td>7.0</td>\n",
       "      <td>3.3</td>\n",
       "      <td>0.89</td>\n",
       "      <td>1</td>\n",
       "    </tr>\n",
       "    <tr>\n",
       "      <th>3</th>\n",
       "      <td>58</td>\n",
       "      <td>Male</td>\n",
       "      <td>1.0</td>\n",
       "      <td>0.4</td>\n",
       "      <td>182</td>\n",
       "      <td>14</td>\n",
       "      <td>20</td>\n",
       "      <td>6.8</td>\n",
       "      <td>3.4</td>\n",
       "      <td>1.00</td>\n",
       "      <td>1</td>\n",
       "    </tr>\n",
       "    <tr>\n",
       "      <th>4</th>\n",
       "      <td>72</td>\n",
       "      <td>Male</td>\n",
       "      <td>3.9</td>\n",
       "      <td>2.0</td>\n",
       "      <td>195</td>\n",
       "      <td>27</td>\n",
       "      <td>59</td>\n",
       "      <td>7.3</td>\n",
       "      <td>2.4</td>\n",
       "      <td>0.40</td>\n",
       "      <td>1</td>\n",
       "    </tr>\n",
       "  </tbody>\n",
       "</table>\n",
       "</div>"
      ],
      "text/plain": [
       "   0       1     2    3    4   5    6    7    8     9   10\n",
       "0  65  Female   0.7  0.1  187  16   18  6.8  3.3  0.90   1\n",
       "1  62    Male  10.9  5.5  699  64  100  7.5  3.2  0.74   1\n",
       "2  62    Male   7.3  4.1  490  60   68  7.0  3.3  0.89   1\n",
       "3  58    Male   1.0  0.4  182  14   20  6.8  3.4  1.00   1\n",
       "4  72    Male   3.9  2.0  195  27   59  7.3  2.4  0.40   1"
      ]
     },
     "execution_count": 92,
     "metadata": {},
     "output_type": "execute_result"
    }
   ],
   "source": [
    "df.head()"
   ]
  },
  {
   "cell_type": "code",
   "execution_count": 93,
   "id": "7851fc01",
   "metadata": {},
   "outputs": [
    {
     "name": "stdout",
     "output_type": "stream",
     "text": [
      "<class 'pandas.core.frame.DataFrame'>\n",
      "RangeIndex: 583 entries, 0 to 582\n",
      "Data columns (total 11 columns):\n",
      " #   Column  Non-Null Count  Dtype  \n",
      "---  ------  --------------  -----  \n",
      " 0   0       583 non-null    int64  \n",
      " 1   1       583 non-null    object \n",
      " 2   2       583 non-null    float64\n",
      " 3   3       583 non-null    float64\n",
      " 4   4       583 non-null    int64  \n",
      " 5   5       583 non-null    int64  \n",
      " 6   6       583 non-null    int64  \n",
      " 7   7       583 non-null    float64\n",
      " 8   8       583 non-null    float64\n",
      " 9   9       579 non-null    float64\n",
      " 10  10      583 non-null    int64  \n",
      "dtypes: float64(5), int64(5), object(1)\n",
      "memory usage: 50.2+ KB\n"
     ]
    }
   ],
   "source": [
    "df.info()"
   ]
  },
  {
   "cell_type": "code",
   "execution_count": 94,
   "id": "1637d996",
   "metadata": {},
   "outputs": [],
   "source": [
    "df.rename(columns = {0:\"Age\",1:\"Gender\",2:\"TB\",3:\"DB\",4:\"Alkphos\",5:\"Sgpt\",6:\"Sgot\",7:\"TP\",8:\"ALB\",9:\"A/G Ratio\",10:\"label\"}, inplace=True)"
   ]
  },
  {
   "cell_type": "code",
   "execution_count": 95,
   "id": "2738e22f",
   "metadata": {},
   "outputs": [
    {
     "data": {
      "text/html": [
       "<div>\n",
       "<style scoped>\n",
       "    .dataframe tbody tr th:only-of-type {\n",
       "        vertical-align: middle;\n",
       "    }\n",
       "\n",
       "    .dataframe tbody tr th {\n",
       "        vertical-align: top;\n",
       "    }\n",
       "\n",
       "    .dataframe thead th {\n",
       "        text-align: right;\n",
       "    }\n",
       "</style>\n",
       "<table border=\"1\" class=\"dataframe\">\n",
       "  <thead>\n",
       "    <tr style=\"text-align: right;\">\n",
       "      <th></th>\n",
       "      <th>Age</th>\n",
       "      <th>Gender</th>\n",
       "      <th>TB</th>\n",
       "      <th>DB</th>\n",
       "      <th>Alkphos</th>\n",
       "      <th>Sgpt</th>\n",
       "      <th>Sgot</th>\n",
       "      <th>TP</th>\n",
       "      <th>ALB</th>\n",
       "      <th>A/G Ratio</th>\n",
       "      <th>label</th>\n",
       "    </tr>\n",
       "  </thead>\n",
       "  <tbody>\n",
       "    <tr>\n",
       "      <th>0</th>\n",
       "      <td>65</td>\n",
       "      <td>Female</td>\n",
       "      <td>0.7</td>\n",
       "      <td>0.1</td>\n",
       "      <td>187</td>\n",
       "      <td>16</td>\n",
       "      <td>18</td>\n",
       "      <td>6.8</td>\n",
       "      <td>3.3</td>\n",
       "      <td>0.90</td>\n",
       "      <td>1</td>\n",
       "    </tr>\n",
       "    <tr>\n",
       "      <th>1</th>\n",
       "      <td>62</td>\n",
       "      <td>Male</td>\n",
       "      <td>10.9</td>\n",
       "      <td>5.5</td>\n",
       "      <td>699</td>\n",
       "      <td>64</td>\n",
       "      <td>100</td>\n",
       "      <td>7.5</td>\n",
       "      <td>3.2</td>\n",
       "      <td>0.74</td>\n",
       "      <td>1</td>\n",
       "    </tr>\n",
       "    <tr>\n",
       "      <th>2</th>\n",
       "      <td>62</td>\n",
       "      <td>Male</td>\n",
       "      <td>7.3</td>\n",
       "      <td>4.1</td>\n",
       "      <td>490</td>\n",
       "      <td>60</td>\n",
       "      <td>68</td>\n",
       "      <td>7.0</td>\n",
       "      <td>3.3</td>\n",
       "      <td>0.89</td>\n",
       "      <td>1</td>\n",
       "    </tr>\n",
       "    <tr>\n",
       "      <th>3</th>\n",
       "      <td>58</td>\n",
       "      <td>Male</td>\n",
       "      <td>1.0</td>\n",
       "      <td>0.4</td>\n",
       "      <td>182</td>\n",
       "      <td>14</td>\n",
       "      <td>20</td>\n",
       "      <td>6.8</td>\n",
       "      <td>3.4</td>\n",
       "      <td>1.00</td>\n",
       "      <td>1</td>\n",
       "    </tr>\n",
       "    <tr>\n",
       "      <th>4</th>\n",
       "      <td>72</td>\n",
       "      <td>Male</td>\n",
       "      <td>3.9</td>\n",
       "      <td>2.0</td>\n",
       "      <td>195</td>\n",
       "      <td>27</td>\n",
       "      <td>59</td>\n",
       "      <td>7.3</td>\n",
       "      <td>2.4</td>\n",
       "      <td>0.40</td>\n",
       "      <td>1</td>\n",
       "    </tr>\n",
       "    <tr>\n",
       "      <th>...</th>\n",
       "      <td>...</td>\n",
       "      <td>...</td>\n",
       "      <td>...</td>\n",
       "      <td>...</td>\n",
       "      <td>...</td>\n",
       "      <td>...</td>\n",
       "      <td>...</td>\n",
       "      <td>...</td>\n",
       "      <td>...</td>\n",
       "      <td>...</td>\n",
       "      <td>...</td>\n",
       "    </tr>\n",
       "    <tr>\n",
       "      <th>578</th>\n",
       "      <td>60</td>\n",
       "      <td>Male</td>\n",
       "      <td>0.5</td>\n",
       "      <td>0.1</td>\n",
       "      <td>500</td>\n",
       "      <td>20</td>\n",
       "      <td>34</td>\n",
       "      <td>5.9</td>\n",
       "      <td>1.6</td>\n",
       "      <td>0.37</td>\n",
       "      <td>2</td>\n",
       "    </tr>\n",
       "    <tr>\n",
       "      <th>579</th>\n",
       "      <td>40</td>\n",
       "      <td>Male</td>\n",
       "      <td>0.6</td>\n",
       "      <td>0.1</td>\n",
       "      <td>98</td>\n",
       "      <td>35</td>\n",
       "      <td>31</td>\n",
       "      <td>6.0</td>\n",
       "      <td>3.2</td>\n",
       "      <td>1.10</td>\n",
       "      <td>1</td>\n",
       "    </tr>\n",
       "    <tr>\n",
       "      <th>580</th>\n",
       "      <td>52</td>\n",
       "      <td>Male</td>\n",
       "      <td>0.8</td>\n",
       "      <td>0.2</td>\n",
       "      <td>245</td>\n",
       "      <td>48</td>\n",
       "      <td>49</td>\n",
       "      <td>6.4</td>\n",
       "      <td>3.2</td>\n",
       "      <td>1.00</td>\n",
       "      <td>1</td>\n",
       "    </tr>\n",
       "    <tr>\n",
       "      <th>581</th>\n",
       "      <td>31</td>\n",
       "      <td>Male</td>\n",
       "      <td>1.3</td>\n",
       "      <td>0.5</td>\n",
       "      <td>184</td>\n",
       "      <td>29</td>\n",
       "      <td>32</td>\n",
       "      <td>6.8</td>\n",
       "      <td>3.4</td>\n",
       "      <td>1.00</td>\n",
       "      <td>1</td>\n",
       "    </tr>\n",
       "    <tr>\n",
       "      <th>582</th>\n",
       "      <td>38</td>\n",
       "      <td>Male</td>\n",
       "      <td>1.0</td>\n",
       "      <td>0.3</td>\n",
       "      <td>216</td>\n",
       "      <td>21</td>\n",
       "      <td>24</td>\n",
       "      <td>7.3</td>\n",
       "      <td>4.4</td>\n",
       "      <td>1.50</td>\n",
       "      <td>2</td>\n",
       "    </tr>\n",
       "  </tbody>\n",
       "</table>\n",
       "<p>583 rows × 11 columns</p>\n",
       "</div>"
      ],
      "text/plain": [
       "     Age  Gender    TB   DB  Alkphos  Sgpt  Sgot   TP  ALB  A/G Ratio  label\n",
       "0     65  Female   0.7  0.1      187    16    18  6.8  3.3       0.90      1\n",
       "1     62    Male  10.9  5.5      699    64   100  7.5  3.2       0.74      1\n",
       "2     62    Male   7.3  4.1      490    60    68  7.0  3.3       0.89      1\n",
       "3     58    Male   1.0  0.4      182    14    20  6.8  3.4       1.00      1\n",
       "4     72    Male   3.9  2.0      195    27    59  7.3  2.4       0.40      1\n",
       "..   ...     ...   ...  ...      ...   ...   ...  ...  ...        ...    ...\n",
       "578   60    Male   0.5  0.1      500    20    34  5.9  1.6       0.37      2\n",
       "579   40    Male   0.6  0.1       98    35    31  6.0  3.2       1.10      1\n",
       "580   52    Male   0.8  0.2      245    48    49  6.4  3.2       1.00      1\n",
       "581   31    Male   1.3  0.5      184    29    32  6.8  3.4       1.00      1\n",
       "582   38    Male   1.0  0.3      216    21    24  7.3  4.4       1.50      2\n",
       "\n",
       "[583 rows x 11 columns]"
      ]
     },
     "execution_count": 95,
     "metadata": {},
     "output_type": "execute_result"
    }
   ],
   "source": [
    "df"
   ]
  },
  {
   "cell_type": "code",
   "execution_count": 96,
   "id": "8ca668e8",
   "metadata": {},
   "outputs": [
    {
     "data": {
      "text/plain": [
       "1    416\n",
       "2    167\n",
       "Name: label, dtype: int64"
      ]
     },
     "execution_count": 96,
     "metadata": {},
     "output_type": "execute_result"
    }
   ],
   "source": [
    "df.label.value_counts()"
   ]
  },
  {
   "cell_type": "code",
   "execution_count": 97,
   "id": "d6bab9c6",
   "metadata": {},
   "outputs": [
    {
     "name": "stderr",
     "output_type": "stream",
     "text": [
      "/Library/Frameworks/Python.framework/Versions/3.7/lib/python3.7/site-packages/ipykernel_launcher.py:1: UserWarning: \n",
      "\n",
      "`distplot` is a deprecated function and will be removed in seaborn v0.14.0.\n",
      "\n",
      "Please adapt your code to use either `displot` (a figure-level function with\n",
      "similar flexibility) or `histplot` (an axes-level function for histograms).\n",
      "\n",
      "For a guide to updating your code to use the new functions, please see\n",
      "https://gist.github.com/mwaskom/de44147ed2974457ad6372750bbe5751\n",
      "\n",
      "  \"\"\"Entry point for launching an IPython kernel.\n"
     ]
    },
    {
     "data": {
      "text/plain": [
       "<AxesSubplot:xlabel='Age', ylabel='Density'>"
      ]
     },
     "execution_count": 97,
     "metadata": {},
     "output_type": "execute_result"
    },
    {
     "data": {
      "image/png": "[encoded data removed]",
      "text/plain": [
       "<Figure size 640x480 with 1 Axes>"
      ]
     },
     "metadata": {},
     "output_type": "display_data"
    }
   ],
   "source": [
    "sns.distplot(df.Age)"
   ]
  },
  {
   "cell_type": "code",
   "execution_count": 98,
   "id": "b5697a65",
   "metadata": {},
   "outputs": [
    {
     "data": {
      "text/plain": [
       "Age          300\n",
       "Gender       300\n",
       "TB           300\n",
       "DB           300\n",
       "Alkphos      300\n",
       "Sgpt         300\n",
       "Sgot         300\n",
       "TP           300\n",
       "ALB          300\n",
       "A/G Ratio    297\n",
       "label        300\n",
       "dtype: int64"
      ]
     },
     "execution_count": 98,
     "metadata": {},
     "output_type": "execute_result"
    }
   ],
   "source": [
    "df[df.Age <= 45].count()"
   ]
  },
  {
   "cell_type": "code",
   "execution_count": 99,
   "id": "0eda516b",
   "metadata": {},
   "outputs": [
    {
     "data": {
      "text/plain": [
       "Age          308\n",
       "Gender       308\n",
       "TB           308\n",
       "DB           308\n",
       "Alkphos      308\n",
       "Sgpt         308\n",
       "Sgot         308\n",
       "TP           308\n",
       "ALB          308\n",
       "A/G Ratio    306\n",
       "label        308\n",
       "dtype: int64"
      ]
     },
     "execution_count": 99,
     "metadata": {},
     "output_type": "execute_result"
    }
   ],
   "source": [
    "df[df.Age >= 45].count()"
   ]
  },
  {
   "cell_type": "code",
   "execution_count": 100,
   "id": "999302c3",
   "metadata": {},
   "outputs": [
    {
     "name": "stdout",
     "output_type": "stream",
     "text": [
      "Total number of records: 583\n",
      "Individuals diagonised with liver disorder: 416\n",
      "Individuals not diagonised with liver disorder: 167\n",
      "Percentage of individuals diagonised with liver disorder: 71.36%\n"
     ]
    }
   ],
   "source": [
    "# Total number of records\n",
    "n_records = len(df.index)\n",
    "\n",
    "# TODO: Number of records where individual's with ASD\n",
    "liver_yes = len(df[df['label'] == 1])\n",
    "\n",
    "# TODO: Number of records where individual's with no ASD\n",
    "liver_no = len(df[df['label'] == 2])\n",
    "\n",
    "# TODO: Percentage of individuals whose are with ASD\n",
    "yes_percent = float(liver_yes) / n_records *100\n",
    "\n",
    "# Print the results\n",
    "print(\"Total number of records: {}\".format(n_records))\n",
    "print(\"Individuals diagonised with liver disorder: {}\".format(liver_yes))\n",
    "print(\"Individuals not diagonised with liver disorder: {}\".format(liver_no))\n",
    "print(\"Percentage of individuals diagonised with liver disorder: {:.2f}%\".format(yes_percent))"
   ]
  },
  {
   "cell_type": "code",
   "execution_count": 101,
   "id": "952a809d",
   "metadata": {},
   "outputs": [
    {
     "data": {
      "text/html": [
       "<div>\n",
       "<style scoped>\n",
       "    .dataframe tbody tr th:only-of-type {\n",
       "        vertical-align: middle;\n",
       "    }\n",
       "\n",
       "    .dataframe tbody tr th {\n",
       "        vertical-align: top;\n",
       "    }\n",
       "\n",
       "    .dataframe thead th {\n",
       "        text-align: right;\n",
       "    }\n",
       "</style>\n",
       "<table border=\"1\" class=\"dataframe\">\n",
       "  <thead>\n",
       "    <tr style=\"text-align: right;\">\n",
       "      <th></th>\n",
       "      <th>Age</th>\n",
       "      <th>Gender</th>\n",
       "      <th>TB</th>\n",
       "      <th>DB</th>\n",
       "      <th>Alkphos</th>\n",
       "      <th>Sgpt</th>\n",
       "      <th>Sgot</th>\n",
       "      <th>TP</th>\n",
       "      <th>ALB</th>\n",
       "      <th>A/G Ratio</th>\n",
       "      <th>label</th>\n",
       "    </tr>\n",
       "  </thead>\n",
       "  <tbody>\n",
       "    <tr>\n",
       "      <th>209</th>\n",
       "      <td>45</td>\n",
       "      <td>Female</td>\n",
       "      <td>0.9</td>\n",
       "      <td>0.3</td>\n",
       "      <td>189</td>\n",
       "      <td>23</td>\n",
       "      <td>33</td>\n",
       "      <td>6.6</td>\n",
       "      <td>3.9</td>\n",
       "      <td>NaN</td>\n",
       "      <td>1</td>\n",
       "    </tr>\n",
       "    <tr>\n",
       "      <th>241</th>\n",
       "      <td>51</td>\n",
       "      <td>Male</td>\n",
       "      <td>0.8</td>\n",
       "      <td>0.2</td>\n",
       "      <td>230</td>\n",
       "      <td>24</td>\n",
       "      <td>46</td>\n",
       "      <td>6.5</td>\n",
       "      <td>3.1</td>\n",
       "      <td>NaN</td>\n",
       "      <td>1</td>\n",
       "    </tr>\n",
       "    <tr>\n",
       "      <th>253</th>\n",
       "      <td>35</td>\n",
       "      <td>Female</td>\n",
       "      <td>0.6</td>\n",
       "      <td>0.2</td>\n",
       "      <td>180</td>\n",
       "      <td>12</td>\n",
       "      <td>15</td>\n",
       "      <td>5.2</td>\n",
       "      <td>2.7</td>\n",
       "      <td>NaN</td>\n",
       "      <td>2</td>\n",
       "    </tr>\n",
       "    <tr>\n",
       "      <th>312</th>\n",
       "      <td>27</td>\n",
       "      <td>Male</td>\n",
       "      <td>1.3</td>\n",
       "      <td>0.6</td>\n",
       "      <td>106</td>\n",
       "      <td>25</td>\n",
       "      <td>54</td>\n",
       "      <td>8.5</td>\n",
       "      <td>4.8</td>\n",
       "      <td>NaN</td>\n",
       "      <td>2</td>\n",
       "    </tr>\n",
       "  </tbody>\n",
       "</table>\n",
       "</div>"
      ],
      "text/plain": [
       "     Age  Gender   TB   DB  Alkphos  Sgpt  Sgot   TP  ALB  A/G Ratio  label\n",
       "209   45  Female  0.9  0.3      189    23    33  6.6  3.9        NaN      1\n",
       "241   51    Male  0.8  0.2      230    24    46  6.5  3.1        NaN      1\n",
       "253   35  Female  0.6  0.2      180    12    15  5.2  2.7        NaN      2\n",
       "312   27    Male  1.3  0.6      106    25    54  8.5  4.8        NaN      2"
      ]
     },
     "execution_count": 101,
     "metadata": {},
     "output_type": "execute_result"
    }
   ],
   "source": [
    "df[df['A/G Ratio'].isna() == True]"
   ]
  },
  {
   "cell_type": "code",
   "execution_count": 102,
   "id": "4793c1ec",
   "metadata": {},
   "outputs": [
    {
     "name": "stderr",
     "output_type": "stream",
     "text": [
      "/Library/Frameworks/Python.framework/Versions/3.7/lib/python3.7/site-packages/ipykernel_launcher.py:1: UserWarning: \n",
      "\n",
      "`distplot` is a deprecated function and will be removed in seaborn v0.14.0.\n",
      "\n",
      "Please adapt your code to use either `displot` (a figure-level function with\n",
      "similar flexibility) or `histplot` (an axes-level function for histograms).\n",
      "\n",
      "For a guide to updating your code to use the new functions, please see\n",
      "https://gist.github.com/mwaskom/de44147ed2974457ad6372750bbe5751\n",
      "\n",
      "  \"\"\"Entry point for launching an IPython kernel.\n"
     ]
    },
    {
     "data": {
      "text/plain": [
       "<AxesSubplot:xlabel='A/G Ratio', ylabel='Density'>"
      ]
     },
     "execution_count": 102,
     "metadata": {},
     "output_type": "execute_result"
    },
    {
     "data": {
      "image/png": "[encoded data removed]",
      "text/plain": [
       "<Figure size 640x480 with 1 Axes>"
      ]
     },
     "metadata": {},
     "output_type": "display_data"
    }
   ],
   "source": [
    "sns.distplot(df['A/G Ratio'])"
   ]
  },
  {
   "cell_type": "code",
   "execution_count": 103,
   "id": "0714a515",
   "metadata": {},
   "outputs": [
    {
     "data": {
      "text/plain": [
       "0.9470639032815197"
      ]
     },
     "execution_count": 103,
     "metadata": {},
     "output_type": "execute_result"
    }
   ],
   "source": [
    "df['A/G Ratio'].mean()"
   ]
  },
  {
   "cell_type": "code",
   "execution_count": 104,
   "id": "32aeea4d",
   "metadata": {},
   "outputs": [],
   "source": [
    "df['A/G Ratio'].fillna(df['A/G Ratio'].mean(), inplace=True)"
   ]
  },
  {
   "cell_type": "code",
   "execution_count": 105,
   "id": "45f91dc9",
   "metadata": {},
   "outputs": [
    {
     "name": "stdout",
     "output_type": "stream",
     "text": [
      "<class 'pandas.core.frame.DataFrame'>\n",
      "RangeIndex: 583 entries, 0 to 582\n",
      "Data columns (total 11 columns):\n",
      " #   Column     Non-Null Count  Dtype  \n",
      "---  ------     --------------  -----  \n",
      " 0   Age        583 non-null    int64  \n",
      " 1   Gender     583 non-null    object \n",
      " 2   TB         583 non-null    float64\n",
      " 3   DB         583 non-null    float64\n",
      " 4   Alkphos    583 non-null    int64  \n",
      " 5   Sgpt       583 non-null    int64  \n",
      " 6   Sgot       583 non-null    int64  \n",
      " 7   TP         583 non-null    float64\n",
      " 8   ALB        583 non-null    float64\n",
      " 9   A/G Ratio  583 non-null    float64\n",
      " 10  label      583 non-null    int64  \n",
      "dtypes: float64(5), int64(5), object(1)\n",
      "memory usage: 50.2+ KB\n"
     ]
    }
   ],
   "source": [
    "df.info()"
   ]
  },
  {
   "cell_type": "code",
   "execution_count": 106,
   "id": "3496cf06",
   "metadata": {},
   "outputs": [
    {
     "data": {
      "text/html": [
       "<div>\n",
       "<style scoped>\n",
       "    .dataframe tbody tr th:only-of-type {\n",
       "        vertical-align: middle;\n",
       "    }\n",
       "\n",
       "    .dataframe tbody tr th {\n",
       "        vertical-align: top;\n",
       "    }\n",
       "\n",
       "    .dataframe thead th {\n",
       "        text-align: right;\n",
       "    }\n",
       "</style>\n",
       "<table border=\"1\" class=\"dataframe\">\n",
       "  <thead>\n",
       "    <tr style=\"text-align: right;\">\n",
       "      <th></th>\n",
       "      <th>Age</th>\n",
       "      <th>TB</th>\n",
       "      <th>DB</th>\n",
       "      <th>Alkphos</th>\n",
       "      <th>Sgpt</th>\n",
       "      <th>Sgot</th>\n",
       "      <th>TP</th>\n",
       "      <th>ALB</th>\n",
       "      <th>A/G Ratio</th>\n",
       "      <th>label</th>\n",
       "    </tr>\n",
       "  </thead>\n",
       "  <tbody>\n",
       "    <tr>\n",
       "      <th>count</th>\n",
       "      <td>583.000000</td>\n",
       "      <td>583.000000</td>\n",
       "      <td>583.000000</td>\n",
       "      <td>583.000000</td>\n",
       "      <td>583.000000</td>\n",
       "      <td>583.000000</td>\n",
       "      <td>583.000000</td>\n",
       "      <td>583.000000</td>\n",
       "      <td>583.000000</td>\n",
       "      <td>583.000000</td>\n",
       "    </tr>\n",
       "    <tr>\n",
       "      <th>mean</th>\n",
       "      <td>44.746141</td>\n",
       "      <td>3.298799</td>\n",
       "      <td>1.486106</td>\n",
       "      <td>290.576329</td>\n",
       "      <td>80.713551</td>\n",
       "      <td>109.910806</td>\n",
       "      <td>6.483190</td>\n",
       "      <td>3.141852</td>\n",
       "      <td>0.947064</td>\n",
       "      <td>1.286449</td>\n",
       "    </tr>\n",
       "    <tr>\n",
       "      <th>std</th>\n",
       "      <td>16.189833</td>\n",
       "      <td>6.209522</td>\n",
       "      <td>2.808498</td>\n",
       "      <td>242.937989</td>\n",
       "      <td>182.620356</td>\n",
       "      <td>288.918529</td>\n",
       "      <td>1.085451</td>\n",
       "      <td>0.795519</td>\n",
       "      <td>0.318492</td>\n",
       "      <td>0.452490</td>\n",
       "    </tr>\n",
       "    <tr>\n",
       "      <th>min</th>\n",
       "      <td>4.000000</td>\n",
       "      <td>0.400000</td>\n",
       "      <td>0.100000</td>\n",
       "      <td>63.000000</td>\n",
       "      <td>10.000000</td>\n",
       "      <td>10.000000</td>\n",
       "      <td>2.700000</td>\n",
       "      <td>0.900000</td>\n",
       "      <td>0.300000</td>\n",
       "      <td>1.000000</td>\n",
       "    </tr>\n",
       "    <tr>\n",
       "      <th>25%</th>\n",
       "      <td>33.000000</td>\n",
       "      <td>0.800000</td>\n",
       "      <td>0.200000</td>\n",
       "      <td>175.500000</td>\n",
       "      <td>23.000000</td>\n",
       "      <td>25.000000</td>\n",
       "      <td>5.800000</td>\n",
       "      <td>2.600000</td>\n",
       "      <td>0.700000</td>\n",
       "      <td>1.000000</td>\n",
       "    </tr>\n",
       "    <tr>\n",
       "      <th>50%</th>\n",
       "      <td>45.000000</td>\n",
       "      <td>1.000000</td>\n",
       "      <td>0.300000</td>\n",
       "      <td>208.000000</td>\n",
       "      <td>35.000000</td>\n",
       "      <td>42.000000</td>\n",
       "      <td>6.600000</td>\n",
       "      <td>3.100000</td>\n",
       "      <td>0.947064</td>\n",
       "      <td>1.000000</td>\n",
       "    </tr>\n",
       "    <tr>\n",
       "      <th>75%</th>\n",
       "      <td>58.000000</td>\n",
       "      <td>2.600000</td>\n",
       "      <td>1.300000</td>\n",
       "      <td>298.000000</td>\n",
       "      <td>60.500000</td>\n",
       "      <td>87.000000</td>\n",
       "      <td>7.200000</td>\n",
       "      <td>3.800000</td>\n",
       "      <td>1.100000</td>\n",
       "      <td>2.000000</td>\n",
       "    </tr>\n",
       "    <tr>\n",
       "      <th>max</th>\n",
       "      <td>90.000000</td>\n",
       "      <td>75.000000</td>\n",
       "      <td>19.700000</td>\n",
       "      <td>2110.000000</td>\n",
       "      <td>2000.000000</td>\n",
       "      <td>4929.000000</td>\n",
       "      <td>9.600000</td>\n",
       "      <td>5.500000</td>\n",
       "      <td>2.800000</td>\n",
       "      <td>2.000000</td>\n",
       "    </tr>\n",
       "  </tbody>\n",
       "</table>\n",
       "</div>"
      ],
      "text/plain": [
       "              Age          TB          DB      Alkphos         Sgpt  \\\n",
       "count  583.000000  583.000000  583.000000   583.000000   583.000000   \n",
       "mean    44.746141    3.298799    1.486106   290.576329    80.713551   \n",
       "std     16.189833    6.209522    2.808498   242.937989   182.620356   \n",
       "min      4.000000    0.400000    0.100000    63.000000    10.000000   \n",
       "25%     33.000000    0.800000    0.200000   175.500000    23.000000   \n",
       "50%     45.000000    1.000000    0.300000   208.000000    35.000000   \n",
       "75%     58.000000    2.600000    1.300000   298.000000    60.500000   \n",
       "max     90.000000   75.000000   19.700000  2110.000000  2000.000000   \n",
       "\n",
       "              Sgot          TP         ALB   A/G Ratio       label  \n",
       "count   583.000000  583.000000  583.000000  583.000000  583.000000  \n",
       "mean    109.910806    6.483190    3.141852    0.947064    1.286449  \n",
       "std     288.918529    1.085451    0.795519    0.318492    0.452490  \n",
       "min      10.000000    2.700000    0.900000    0.300000    1.000000  \n",
       "25%      25.000000    5.800000    2.600000    0.700000    1.000000  \n",
       "50%      42.000000    6.600000    3.100000    0.947064    1.000000  \n",
       "75%      87.000000    7.200000    3.800000    1.100000    2.000000  \n",
       "max    4929.000000    9.600000    5.500000    2.800000    2.000000  "
      ]
     },
     "execution_count": 106,
     "metadata": {},
     "output_type": "execute_result"
    }
   ],
   "source": [
    "df.describe()"
   ]
  },
  {
   "cell_type": "code",
   "execution_count": 107,
   "id": "cf02818f",
   "metadata": {},
   "outputs": [
    {
     "name": "stdout",
     "output_type": "stream",
     "text": [
      "Age            int64\n",
      "Gender        object\n",
      "TB           float64\n",
      "DB           float64\n",
      "Alkphos        int64\n",
      "Sgpt           int64\n",
      "Sgot           int64\n",
      "TP           float64\n",
      "ALB          float64\n",
      "A/G Ratio    float64\n",
      "label          int64\n",
      "dtype: object\n"
     ]
    }
   ],
   "source": [
    "print(df.dtypes)"
   ]
  },
  {
   "cell_type": "code",
   "execution_count": 108,
   "id": "b3662ac8",
   "metadata": {},
   "outputs": [
    {
     "data": {
      "image/png": "[encoded data removed]",
      "text/plain": [
       "<Figure size 640x480 with 1 Axes>"
      ]
     },
     "metadata": {},
     "output_type": "display_data"
    }
   ],
   "source": [
    "sns.violinplot(x=\"Gender\", y=\"Age\", hue=\"label\", data=df, split=True,\n",
    "                inner=\"quart\", palette={1: \"r\", 2: \"b\"})\n",
    "sns.despine(left=True)"
   ]
  },
  {
   "cell_type": "code",
   "execution_count": 109,
   "id": "deaa322e",
   "metadata": {},
   "outputs": [
    {
     "data": {
      "text/plain": [
       "<seaborn.axisgrid.FacetGrid at 0x7fbf11c4d290>"
      ]
     },
     "execution_count": 109,
     "metadata": {},
     "output_type": "execute_result"
    },
    {
     "data": {
      "image/png": "[encoded data removed]",
      "text/plain": [
       "<Figure size 263.5x400 with 1 Axes>"
      ]
     },
     "metadata": {},
     "output_type": "display_data"
    }
   ],
   "source": [
    "sns.catplot(x=\"Gender\", y=\"Age\", hue=\"label\", kind=\"box\", height=4, aspect=.5, palette={1: \"r\", 2: \"b\"}, data=df)"
   ]
  },
  {
   "cell_type": "code",
   "execution_count": 110,
   "id": "e22c2093",
   "metadata": {},
   "outputs": [
    {
     "data": {
      "text/plain": [
       "Male      441\n",
       "Female    142\n",
       "Name: Gender, dtype: int64"
      ]
     },
     "execution_count": 110,
     "metadata": {},
     "output_type": "execute_result"
    }
   ],
   "source": [
    "df.Gender.value_counts()"
   ]
  },
  {
   "cell_type": "code",
   "execution_count": 111,
   "id": "1ef99324",
   "metadata": {},
   "outputs": [
    {
     "data": {
      "text/plain": [
       "<seaborn.axisgrid.FacetGrid at 0x7fbf11bf6250>"
      ]
     },
     "execution_count": 111,
     "metadata": {},
     "output_type": "execute_result"
    },
    {
     "data": {
      "image/png": "[encoded data removed]",
      "text/plain": [
       "<Figure size 263.5x400 with 1 Axes>"
      ]
     },
     "metadata": {},
     "output_type": "display_data"
    }
   ],
   "source": [
    "sns.catplot(x=\"Gender\", y=\"Age\", hue=\"label\", kind=\"violin\", height=4, aspect=.5, palette={1: \"r\", 2: \"b\"}, data=df)"
   ]
  },
  {
   "cell_type": "code",
   "execution_count": 112,
   "id": "a96c0379",
   "metadata": {},
   "outputs": [],
   "source": [
    "# Split the data into features and target label\n",
    "y_label = df['label']\n",
    "x_features = df[[\"Age\",\"Gender\",\"TB\",\"DB\",\"Alkphos\",\"Sgpt\",\"Sgot\",\"TP\",\"ALB\",\"A/G Ratio\"]]"
   ]
  },
  {
   "cell_type": "code",
   "execution_count": 113,
   "id": "444d170d",
   "metadata": {},
   "outputs": [
    {
     "data": {
      "text/html": [
       "<div>\n",
       "<style scoped>\n",
       "    .dataframe tbody tr th:only-of-type {\n",
       "        vertical-align: middle;\n",
       "    }\n",
       "\n",
       "    .dataframe tbody tr th {\n",
       "        vertical-align: top;\n",
       "    }\n",
       "\n",
       "    .dataframe thead th {\n",
       "        text-align: right;\n",
       "    }\n",
       "</style>\n",
       "<table border=\"1\" class=\"dataframe\">\n",
       "  <thead>\n",
       "    <tr style=\"text-align: right;\">\n",
       "      <th></th>\n",
       "      <th>Age</th>\n",
       "      <th>Gender</th>\n",
       "      <th>TB</th>\n",
       "      <th>DB</th>\n",
       "      <th>Alkphos</th>\n",
       "      <th>Sgpt</th>\n",
       "      <th>Sgot</th>\n",
       "      <th>TP</th>\n",
       "      <th>ALB</th>\n",
       "      <th>A/G Ratio</th>\n",
       "    </tr>\n",
       "  </thead>\n",
       "  <tbody>\n",
       "    <tr>\n",
       "      <th>0</th>\n",
       "      <td>0.709302</td>\n",
       "      <td>Female</td>\n",
       "      <td>0.004021</td>\n",
       "      <td>0.000000</td>\n",
       "      <td>0.060576</td>\n",
       "      <td>0.003015</td>\n",
       "      <td>0.001626</td>\n",
       "      <td>0.594203</td>\n",
       "      <td>0.521739</td>\n",
       "      <td>0.240</td>\n",
       "    </tr>\n",
       "    <tr>\n",
       "      <th>1</th>\n",
       "      <td>0.674419</td>\n",
       "      <td>Male</td>\n",
       "      <td>0.140751</td>\n",
       "      <td>0.275510</td>\n",
       "      <td>0.310699</td>\n",
       "      <td>0.027136</td>\n",
       "      <td>0.018296</td>\n",
       "      <td>0.695652</td>\n",
       "      <td>0.500000</td>\n",
       "      <td>0.176</td>\n",
       "    </tr>\n",
       "    <tr>\n",
       "      <th>2</th>\n",
       "      <td>0.674419</td>\n",
       "      <td>Male</td>\n",
       "      <td>0.092493</td>\n",
       "      <td>0.204082</td>\n",
       "      <td>0.208598</td>\n",
       "      <td>0.025126</td>\n",
       "      <td>0.011791</td>\n",
       "      <td>0.623188</td>\n",
       "      <td>0.521739</td>\n",
       "      <td>0.236</td>\n",
       "    </tr>\n",
       "    <tr>\n",
       "      <th>3</th>\n",
       "      <td>0.627907</td>\n",
       "      <td>Male</td>\n",
       "      <td>0.008043</td>\n",
       "      <td>0.015306</td>\n",
       "      <td>0.058134</td>\n",
       "      <td>0.002010</td>\n",
       "      <td>0.002033</td>\n",
       "      <td>0.594203</td>\n",
       "      <td>0.543478</td>\n",
       "      <td>0.280</td>\n",
       "    </tr>\n",
       "    <tr>\n",
       "      <th>4</th>\n",
       "      <td>0.790698</td>\n",
       "      <td>Male</td>\n",
       "      <td>0.046917</td>\n",
       "      <td>0.096939</td>\n",
       "      <td>0.064485</td>\n",
       "      <td>0.008543</td>\n",
       "      <td>0.009961</td>\n",
       "      <td>0.666667</td>\n",
       "      <td>0.326087</td>\n",
       "      <td>0.040</td>\n",
       "    </tr>\n",
       "  </tbody>\n",
       "</table>\n",
       "</div>"
      ],
      "text/plain": [
       "        Age  Gender        TB        DB   Alkphos      Sgpt      Sgot  \\\n",
       "0  0.709302  Female  0.004021  0.000000  0.060576  0.003015  0.001626   \n",
       "1  0.674419    Male  0.140751  0.275510  0.310699  0.027136  0.018296   \n",
       "2  0.674419    Male  0.092493  0.204082  0.208598  0.025126  0.011791   \n",
       "3  0.627907    Male  0.008043  0.015306  0.058134  0.002010  0.002033   \n",
       "4  0.790698    Male  0.046917  0.096939  0.064485  0.008543  0.009961   \n",
       "\n",
       "         TP       ALB  A/G Ratio  \n",
       "0  0.594203  0.521739      0.240  \n",
       "1  0.695652  0.500000      0.176  \n",
       "2  0.623188  0.521739      0.236  \n",
       "3  0.594203  0.543478      0.280  \n",
       "4  0.666667  0.326087      0.040  "
      ]
     },
     "metadata": {},
     "output_type": "display_data"
    }
   ],
   "source": [
    "from sklearn.preprocessing import MinMaxScaler\n",
    "\n",
    "scaler = MinMaxScaler()\n",
    "numerical = [\"Age\",\"TB\",\"DB\",\"Alkphos\",\"Sgpt\",\"Sgot\",\"TP\",\"ALB\",\"A/G Ratio\"]\n",
    "\n",
    "transformed_features = pd.DataFrame(data = x_features)\n",
    "transformed_features[numerical] = scaler.fit_transform(x_features[numerical])\n",
    "transformed_features\n",
    "# Show an example of a record with scaling applied\n",
    "display(transformed_features.head(n = 5))"
   ]
  },
  {
   "cell_type": "code",
   "execution_count": 114,
   "id": "93afaaaf",
   "metadata": {},
   "outputs": [
    {
     "data": {
      "text/html": [
       "<div>\n",
       "<style scoped>\n",
       "    .dataframe tbody tr th:only-of-type {\n",
       "        vertical-align: middle;\n",
       "    }\n",
       "\n",
       "    .dataframe tbody tr th {\n",
       "        vertical-align: top;\n",
       "    }\n",
       "\n",
       "    .dataframe thead th {\n",
       "        text-align: right;\n",
       "    }\n",
       "</style>\n",
       "<table border=\"1\" class=\"dataframe\">\n",
       "  <thead>\n",
       "    <tr style=\"text-align: right;\">\n",
       "      <th></th>\n",
       "      <th>Age</th>\n",
       "      <th>TB</th>\n",
       "      <th>DB</th>\n",
       "      <th>Alkphos</th>\n",
       "      <th>Sgpt</th>\n",
       "      <th>Sgot</th>\n",
       "      <th>TP</th>\n",
       "      <th>ALB</th>\n",
       "      <th>A/G Ratio</th>\n",
       "      <th>Gender_Female</th>\n",
       "      <th>Gender_Male</th>\n",
       "    </tr>\n",
       "  </thead>\n",
       "  <tbody>\n",
       "    <tr>\n",
       "      <th>0</th>\n",
       "      <td>0.709302</td>\n",
       "      <td>0.004021</td>\n",
       "      <td>0.000000</td>\n",
       "      <td>0.060576</td>\n",
       "      <td>0.003015</td>\n",
       "      <td>0.001626</td>\n",
       "      <td>0.594203</td>\n",
       "      <td>0.521739</td>\n",
       "      <td>0.240</td>\n",
       "      <td>1</td>\n",
       "      <td>0</td>\n",
       "    </tr>\n",
       "    <tr>\n",
       "      <th>1</th>\n",
       "      <td>0.674419</td>\n",
       "      <td>0.140751</td>\n",
       "      <td>0.275510</td>\n",
       "      <td>0.310699</td>\n",
       "      <td>0.027136</td>\n",
       "      <td>0.018296</td>\n",
       "      <td>0.695652</td>\n",
       "      <td>0.500000</td>\n",
       "      <td>0.176</td>\n",
       "      <td>0</td>\n",
       "      <td>1</td>\n",
       "    </tr>\n",
       "    <tr>\n",
       "      <th>2</th>\n",
       "      <td>0.674419</td>\n",
       "      <td>0.092493</td>\n",
       "      <td>0.204082</td>\n",
       "      <td>0.208598</td>\n",
       "      <td>0.025126</td>\n",
       "      <td>0.011791</td>\n",
       "      <td>0.623188</td>\n",
       "      <td>0.521739</td>\n",
       "      <td>0.236</td>\n",
       "      <td>0</td>\n",
       "      <td>1</td>\n",
       "    </tr>\n",
       "    <tr>\n",
       "      <th>3</th>\n",
       "      <td>0.627907</td>\n",
       "      <td>0.008043</td>\n",
       "      <td>0.015306</td>\n",
       "      <td>0.058134</td>\n",
       "      <td>0.002010</td>\n",
       "      <td>0.002033</td>\n",
       "      <td>0.594203</td>\n",
       "      <td>0.543478</td>\n",
       "      <td>0.280</td>\n",
       "      <td>0</td>\n",
       "      <td>1</td>\n",
       "    </tr>\n",
       "    <tr>\n",
       "      <th>4</th>\n",
       "      <td>0.790698</td>\n",
       "      <td>0.046917</td>\n",
       "      <td>0.096939</td>\n",
       "      <td>0.064485</td>\n",
       "      <td>0.008543</td>\n",
       "      <td>0.009961</td>\n",
       "      <td>0.666667</td>\n",
       "      <td>0.326087</td>\n",
       "      <td>0.040</td>\n",
       "      <td>0</td>\n",
       "      <td>1</td>\n",
       "    </tr>\n",
       "  </tbody>\n",
       "</table>\n",
       "</div>"
      ],
      "text/plain": [
       "        Age        TB        DB   Alkphos      Sgpt      Sgot        TP  \\\n",
       "0  0.709302  0.004021  0.000000  0.060576  0.003015  0.001626  0.594203   \n",
       "1  0.674419  0.140751  0.275510  0.310699  0.027136  0.018296  0.695652   \n",
       "2  0.674419  0.092493  0.204082  0.208598  0.025126  0.011791  0.623188   \n",
       "3  0.627907  0.008043  0.015306  0.058134  0.002010  0.002033  0.594203   \n",
       "4  0.790698  0.046917  0.096939  0.064485  0.008543  0.009961  0.666667   \n",
       "\n",
       "        ALB  A/G Ratio  Gender_Female  Gender_Male  \n",
       "0  0.521739      0.240              1            0  \n",
       "1  0.500000      0.176              0            1  \n",
       "2  0.521739      0.236              0            1  \n",
       "3  0.543478      0.280              0            1  \n",
       "4  0.326087      0.040              0            1  "
      ]
     },
     "metadata": {},
     "output_type": "display_data"
    },
    {
     "name": "stdout",
     "output_type": "stream",
     "text": [
      "11 total features after one-hot encoding.\n",
      "['Age', 'TB', 'DB', 'Alkphos', 'Sgpt', 'Sgot', 'TP', 'ALB', 'A/G Ratio', 'Gender_Female', 'Gender_Male']\n"
     ]
    }
   ],
   "source": [
    "#One-hot encode the 'transformed_features' data using pandas.get_dummies()\n",
    "features = pd.get_dummies(transformed_features)\n",
    "display(features.head(5))\n",
    "\n",
    "# Encode the 'all_classes_raw' data to numerical values\n",
    "labels = y_label.apply(lambda x: 1 if x == 1 else 0)\n",
    "\n",
    "# Print the number of features after one-hot encoding\n",
    "encoded = list(features.columns)\n",
    "print(\"{} total features after one-hot encoding.\".format(len(encoded)))\n",
    "\n",
    "# Uncomment the following line to see the encoded feature names\n",
    "print(encoded)"
   ]
  },
  {
   "cell_type": "code",
   "execution_count": 115,
   "id": "f308103e",
   "metadata": {},
   "outputs": [
    {
     "data": {
      "text/html": [
       "<div>\n",
       "<style scoped>\n",
       "    .dataframe tbody tr th:only-of-type {\n",
       "        vertical-align: middle;\n",
       "    }\n",
       "\n",
       "    .dataframe tbody tr th {\n",
       "        vertical-align: top;\n",
       "    }\n",
       "\n",
       "    .dataframe thead th {\n",
       "        text-align: right;\n",
       "    }\n",
       "</style>\n",
       "<table border=\"1\" class=\"dataframe\">\n",
       "  <thead>\n",
       "    <tr style=\"text-align: right;\">\n",
       "      <th></th>\n",
       "      <th>Age</th>\n",
       "      <th>TB</th>\n",
       "      <th>DB</th>\n",
       "      <th>Alkphos</th>\n",
       "      <th>Sgpt</th>\n",
       "      <th>Sgot</th>\n",
       "      <th>TP</th>\n",
       "      <th>ALB</th>\n",
       "      <th>A/G Ratio</th>\n",
       "      <th>Gender_Female</th>\n",
       "      <th>Gender_Male</th>\n",
       "    </tr>\n",
       "  </thead>\n",
       "  <tbody>\n",
       "    <tr>\n",
       "      <th>0</th>\n",
       "      <td>0.709302</td>\n",
       "      <td>0.004021</td>\n",
       "      <td>0.000000</td>\n",
       "      <td>0.060576</td>\n",
       "      <td>0.003015</td>\n",
       "      <td>0.001626</td>\n",
       "      <td>0.594203</td>\n",
       "      <td>0.521739</td>\n",
       "      <td>0.240</td>\n",
       "      <td>1</td>\n",
       "      <td>0</td>\n",
       "    </tr>\n",
       "    <tr>\n",
       "      <th>1</th>\n",
       "      <td>0.674419</td>\n",
       "      <td>0.140751</td>\n",
       "      <td>0.275510</td>\n",
       "      <td>0.310699</td>\n",
       "      <td>0.027136</td>\n",
       "      <td>0.018296</td>\n",
       "      <td>0.695652</td>\n",
       "      <td>0.500000</td>\n",
       "      <td>0.176</td>\n",
       "      <td>0</td>\n",
       "      <td>1</td>\n",
       "    </tr>\n",
       "    <tr>\n",
       "      <th>2</th>\n",
       "      <td>0.674419</td>\n",
       "      <td>0.092493</td>\n",
       "      <td>0.204082</td>\n",
       "      <td>0.208598</td>\n",
       "      <td>0.025126</td>\n",
       "      <td>0.011791</td>\n",
       "      <td>0.623188</td>\n",
       "      <td>0.521739</td>\n",
       "      <td>0.236</td>\n",
       "      <td>0</td>\n",
       "      <td>1</td>\n",
       "    </tr>\n",
       "    <tr>\n",
       "      <th>3</th>\n",
       "      <td>0.627907</td>\n",
       "      <td>0.008043</td>\n",
       "      <td>0.015306</td>\n",
       "      <td>0.058134</td>\n",
       "      <td>0.002010</td>\n",
       "      <td>0.002033</td>\n",
       "      <td>0.594203</td>\n",
       "      <td>0.543478</td>\n",
       "      <td>0.280</td>\n",
       "      <td>0</td>\n",
       "      <td>1</td>\n",
       "    </tr>\n",
       "    <tr>\n",
       "      <th>4</th>\n",
       "      <td>0.790698</td>\n",
       "      <td>0.046917</td>\n",
       "      <td>0.096939</td>\n",
       "      <td>0.064485</td>\n",
       "      <td>0.008543</td>\n",
       "      <td>0.009961</td>\n",
       "      <td>0.666667</td>\n",
       "      <td>0.326087</td>\n",
       "      <td>0.040</td>\n",
       "      <td>0</td>\n",
       "      <td>1</td>\n",
       "    </tr>\n",
       "    <tr>\n",
       "      <th>...</th>\n",
       "      <td>...</td>\n",
       "      <td>...</td>\n",
       "      <td>...</td>\n",
       "      <td>...</td>\n",
       "      <td>...</td>\n",
       "      <td>...</td>\n",
       "      <td>...</td>\n",
       "      <td>...</td>\n",
       "      <td>...</td>\n",
       "      <td>...</td>\n",
       "      <td>...</td>\n",
       "    </tr>\n",
       "    <tr>\n",
       "      <th>578</th>\n",
       "      <td>0.651163</td>\n",
       "      <td>0.001340</td>\n",
       "      <td>0.000000</td>\n",
       "      <td>0.213483</td>\n",
       "      <td>0.005025</td>\n",
       "      <td>0.004879</td>\n",
       "      <td>0.463768</td>\n",
       "      <td>0.152174</td>\n",
       "      <td>0.028</td>\n",
       "      <td>0</td>\n",
       "      <td>1</td>\n",
       "    </tr>\n",
       "    <tr>\n",
       "      <th>579</th>\n",
       "      <td>0.418605</td>\n",
       "      <td>0.002681</td>\n",
       "      <td>0.000000</td>\n",
       "      <td>0.017098</td>\n",
       "      <td>0.012563</td>\n",
       "      <td>0.004269</td>\n",
       "      <td>0.478261</td>\n",
       "      <td>0.500000</td>\n",
       "      <td>0.320</td>\n",
       "      <td>0</td>\n",
       "      <td>1</td>\n",
       "    </tr>\n",
       "    <tr>\n",
       "      <th>580</th>\n",
       "      <td>0.558140</td>\n",
       "      <td>0.005362</td>\n",
       "      <td>0.005102</td>\n",
       "      <td>0.088911</td>\n",
       "      <td>0.019095</td>\n",
       "      <td>0.007928</td>\n",
       "      <td>0.536232</td>\n",
       "      <td>0.500000</td>\n",
       "      <td>0.280</td>\n",
       "      <td>0</td>\n",
       "      <td>1</td>\n",
       "    </tr>\n",
       "    <tr>\n",
       "      <th>581</th>\n",
       "      <td>0.313953</td>\n",
       "      <td>0.012064</td>\n",
       "      <td>0.020408</td>\n",
       "      <td>0.059111</td>\n",
       "      <td>0.009548</td>\n",
       "      <td>0.004472</td>\n",
       "      <td>0.594203</td>\n",
       "      <td>0.543478</td>\n",
       "      <td>0.280</td>\n",
       "      <td>0</td>\n",
       "      <td>1</td>\n",
       "    </tr>\n",
       "    <tr>\n",
       "      <th>582</th>\n",
       "      <td>0.395349</td>\n",
       "      <td>0.008043</td>\n",
       "      <td>0.010204</td>\n",
       "      <td>0.074744</td>\n",
       "      <td>0.005528</td>\n",
       "      <td>0.002846</td>\n",
       "      <td>0.666667</td>\n",
       "      <td>0.760870</td>\n",
       "      <td>0.480</td>\n",
       "      <td>0</td>\n",
       "      <td>1</td>\n",
       "    </tr>\n",
       "  </tbody>\n",
       "</table>\n",
       "<p>583 rows × 11 columns</p>\n",
       "</div>"
      ],
      "text/plain": [
       "          Age        TB        DB   Alkphos      Sgpt      Sgot        TP  \\\n",
       "0    0.709302  0.004021  0.000000  0.060576  0.003015  0.001626  0.594203   \n",
       "1    0.674419  0.140751  0.275510  0.310699  0.027136  0.018296  0.695652   \n",
       "2    0.674419  0.092493  0.204082  0.208598  0.025126  0.011791  0.623188   \n",
       "3    0.627907  0.008043  0.015306  0.058134  0.002010  0.002033  0.594203   \n",
       "4    0.790698  0.046917  0.096939  0.064485  0.008543  0.009961  0.666667   \n",
       "..        ...       ...       ...       ...       ...       ...       ...   \n",
       "578  0.651163  0.001340  0.000000  0.213483  0.005025  0.004879  0.463768   \n",
       "579  0.418605  0.002681  0.000000  0.017098  0.012563  0.004269  0.478261   \n",
       "580  0.558140  0.005362  0.005102  0.088911  0.019095  0.007928  0.536232   \n",
       "581  0.313953  0.012064  0.020408  0.059111  0.009548  0.004472  0.594203   \n",
       "582  0.395349  0.008043  0.010204  0.074744  0.005528  0.002846  0.666667   \n",
       "\n",
       "          ALB  A/G Ratio  Gender_Female  Gender_Male  \n",
       "0    0.521739      0.240              1            0  \n",
       "1    0.500000      0.176              0            1  \n",
       "2    0.521739      0.236              0            1  \n",
       "3    0.543478      0.280              0            1  \n",
       "4    0.326087      0.040              0            1  \n",
       "..        ...        ...            ...          ...  \n",
       "578  0.152174      0.028              0            1  \n",
       "579  0.500000      0.320              0            1  \n",
       "580  0.500000      0.280              0            1  \n",
       "581  0.543478      0.280              0            1  \n",
       "582  0.760870      0.480              0            1  \n",
       "\n",
       "[583 rows x 11 columns]"
      ]
     },
     "execution_count": 115,
     "metadata": {},
     "output_type": "execute_result"
    }
   ],
   "source": [
    "features"
   ]
  },
  {
   "cell_type": "code",
   "execution_count": 116,
   "id": "07893ea5",
   "metadata": {},
   "outputs": [
    {
     "data": {
      "text/plain": [
       "0      1\n",
       "1      1\n",
       "2      1\n",
       "3      1\n",
       "4      1\n",
       "      ..\n",
       "578    0\n",
       "579    1\n",
       "580    1\n",
       "581    1\n",
       "582    0\n",
       "Name: label, Length: 583, dtype: int64"
      ]
     },
     "execution_count": 116,
     "metadata": {},
     "output_type": "execute_result"
    }
   ],
   "source": [
    "labels"
   ]
  },
  {
   "cell_type": "code",
   "execution_count": 117,
   "id": "c8964823",
   "metadata": {},
   "outputs": [
    {
     "data": {
      "text/plain": [
       "Text(0, 0.5, 'Frequency')"
      ]
     },
     "execution_count": 117,
     "metadata": {},
     "output_type": "execute_result"
    },
    {
     "data": {
      "image/png": "[encoded data removed]",
      "text/plain": [
       "<Figure size 640x480 with 1 Axes>"
      ]
     },
     "metadata": {},
     "output_type": "display_data"
    }
   ],
   "source": [
    "# 8 bins\n",
    "plt.hist(labels, bins=10)\n",
    "\n",
    "# x-axis limit from 0 to 1\n",
    "plt.xlim(0,1)\n",
    "plt.title('Histogram of Label')\n",
    "plt.xlabel('Label from processed data')\n",
    "plt.ylabel('Frequency')\n"
   ]
  },
  {
   "cell_type": "code",
   "execution_count": 118,
   "id": "889b4295",
   "metadata": {},
   "outputs": [
    {
     "name": "stdout",
     "output_type": "stream",
     "text": [
      "Training set has 466 samples.\n",
      "Testing set has 117 samples.\n"
     ]
    }
   ],
   "source": [
    "from sklearn.model_selection import train_test_split\n",
    "\n",
    "np.random.seed(1234)\n",
    "\n",
    "X_train, X_test, y_train, y_test = train_test_split(features, labels, train_size=0.80, random_state=1)\n",
    "\n",
    "\n",
    "# Show the results of the split\n",
    "print(\"Training set has {} samples.\".format(X_train.shape[0]))\n",
    "print(\"Testing set has {} samples.\".format(X_test.shape[0]))"
   ]
  },
  {
   "cell_type": "markdown",
   "id": "8ea6e2ab",
   "metadata": {},
   "source": [
    "# Build Models"
   ]
  },
  {
   "cell_type": "code",
   "execution_count": null,
   "id": "fe87d6b9",
   "metadata": {},
   "outputs": [],
   "source": [
    "# Logistic Regression"
   ]
  },
  {
   "cell_type": "code",
   "execution_count": 121,
   "id": "4217bfda",
   "metadata": {},
   "outputs": [
    {
     "name": "stdout",
     "output_type": "stream",
     "text": [
      "logistic regression cross_val_scores:  0.7169783752191701\n",
      "logistic regression AUC Score:  0.726246199699392\n",
      "logistic regression fbeta Score:  0.7550644567219152\n"
     ]
    }
   ],
   "source": [
    "logistic_regression = LogisticRegression()\n",
    "\n",
    "lr_cross_val_scores = cross_val_score(logistic_regression, features, labels, cv=10)\n",
    "print(\"logistic regression cross_val_scores: \", lr_cross_val_scores.mean())\n",
    "\n",
    "lr_cross_val_scores_roc = cross_val_score(logistic_regression, features, labels, cv=10, scoring='roc_auc').mean()\n",
    "print(\"logistic regression AUC Score: \", lr_cross_val_scores_roc.mean())\n",
    "\n",
    "logistic_regression.fit(X_train, y_train)\n",
    "predictions_test = logistic_regression.predict(X_test)\n",
    "print(\"logistic regression fbeta Score: \", fbeta_score(y_test, predictions_test, average='binary', beta=0.5))"
   ]
  },
  {
   "cell_type": "code",
   "execution_count": 120,
   "id": "07558543",
   "metadata": {},
   "outputs": [],
   "source": [
    "# SVM"
   ]
  },
  {
   "cell_type": "code",
   "execution_count": 124,
   "id": "5282ad3d",
   "metadata": {},
   "outputs": [
    {
     "name": "stdout",
     "output_type": "stream",
     "text": [
      "svm cross_val_scores:  0.7135593220338983\n",
      "svm AUC Score:  0.7058311129329781\n",
      "svm fbeta Score:  0.7531760435571688\n"
     ]
    }
   ],
   "source": [
    "C = 1.0\n",
    "svc = svm.SVC(kernel='linear', C=C, gamma=2)\n",
    "svm_cross_val_scores = cross_val_score(svc, features_final, labels, cv=10)\n",
    "print(\"svm cross_val_scores: \", svm_cross_val_scores.mean())\n",
    "\n",
    "svm_cross_val_scores_roc = cross_val_score(svc, features, labels, cv=10, scoring='roc_auc').mean()\n",
    "print(\"svm AUC Score: \", svm_cross_val_scores_roc.mean())\n",
    "\n",
    "svc.fit(X_train, y_train)\n",
    "predictions_test = svc.predict(X_test)\n",
    "print(\"svm fbeta Score: \", fbeta_score(y_test, predictions_test, average='binary', beta=0.5))"
   ]
  },
  {
   "cell_type": "code",
   "execution_count": 125,
   "id": "e4cd3e60",
   "metadata": {},
   "outputs": [],
   "source": [
    "# KNN"
   ]
  },
  {
   "cell_type": "code",
   "execution_count": 132,
   "id": "ec41cbab",
   "metadata": {},
   "outputs": [
    {
     "name": "stdout",
     "output_type": "stream",
     "text": [
      "knn cross_val_scores:  0.6415838690824079\n",
      "knn AUC Score:  0.6440179425428708\n",
      "knn fbeta Score:  0.7446808510638298\n",
      "10 0.6415838690824079\n",
      "11 0.6535067212156633\n",
      "12 0.6380771478667446\n",
      "13 0.6654003506721217\n",
      "14 0.6604032729398013\n",
      "15 0.6774400935125657\n",
      "16 0.6705143191116306\n",
      "17 0.6757159555815313\n",
      "18 0.663793103448276\n",
      "19 0.6912624196376388\n",
      "20 0.6930157802454705\n",
      "21 0.6997954412624197\n",
      "22 0.6878725891291643\n",
      "23 0.699853886616014\n",
      "24 0.701490356516657\n",
      "25 0.6979836353009936\n",
      "26 0.7047925189947399\n",
      "27 0.7031852717708943\n",
      "28 0.7032144944476915\n",
      "29 0.6930157802454705\n",
      "30 0.6896259497369959\n",
      "31 0.6964348334307422\n",
      "32 0.7049094097019288\n",
      "33 0.7015195791934541\n",
      "34 0.6946522501461134\n",
      "35 0.6946522501461134\n",
      "36 0.696405610753945\n",
      "37 0.7067504383401519\n",
      "38 0.7067796610169491\n",
      "39 0.7067504383401519\n",
      "40 0.717095265926359\n",
      "41 0.7066919929865576\n",
      "42 0.7153419053185271\n",
      "43 0.708416130917592\n",
      "44 0.71531268264173\n",
      "45 0.7135593220338983\n",
      "46 0.7170075978959674\n",
      "47 0.7118644067796611\n",
      "48 0.7170368205727645\n",
      "49 0.7101402688486266\n"
     ]
    }
   ],
   "source": [
    "knn = neighbors.KNeighborsClassifier(n_neighbors=10)\n",
    "knn_cross_val_scores = cross_val_score(knn, features, labels, cv=10)\n",
    "print(\"knn cross_val_scores: \", knn_cross_val_scores.mean())\n",
    "\n",
    "knn_cross_val_scores_roc = cross_val_score(knn, features, labels, cv=10, scoring='roc_auc')\n",
    "print(\"knn AUC Score: \", knn_cross_val_scores_roc.mean())\n",
    "\n",
    "knn.fit(X_train, y_train)\n",
    "predictions_test = knn.predict(X_test)\n",
    "print(\"knn fbeta Score: \", fbeta_score(y_test, predictions_test, average='binary', beta=0.5))\n",
    "\n",
    "n_neighbors_range = range(10, 50)\n",
    "\n",
    "def evaluate_knn(n, features, labels):\n",
    "    knn = neighbors.KNeighborsClassifier(n_neighbors=n)\n",
    "    cv_scores = cross_val_score(knn, features, labels, cv=10)\n",
    "    return n, cv_scores.mean()\n",
    "\n",
    "results = Parallel(n_jobs=-1)(delayed(evaluate_knn)(n, features, labels) for n in n_neighbors_range)\n",
    "\n",
    "for n, mean_score in results:\n",
    "    print(n, mean_score)\n"
   ]
  },
  {
   "cell_type": "code",
   "execution_count": 130,
   "id": "03f01ebf",
   "metadata": {},
   "outputs": [],
   "source": []
  },
  {
   "cell_type": "code",
   "execution_count": 133,
   "id": "cf186b85",
   "metadata": {},
   "outputs": [
    {
     "name": "stdout",
     "output_type": "stream",
     "text": [
      "Number of CPUs: 8\n"
     ]
    }
   ],
   "source": [
    "\n",
    "# Get the number of CPUs using os.cpu_count()\n",
    "cpu_count = os.cpu_count()\n",
    "\n",
    "# Alternatively, you can use multiprocessing.cpu_count()\n",
    "# cpu_count = multiprocessing.cpu_count()\n",
    "\n",
    "print(f\"Number of CPUs: {cpu_count}\")\n"
   ]
  },
  {
   "cell_type": "code",
   "execution_count": 143,
   "id": "c8dfd66a",
   "metadata": {},
   "outputs": [],
   "source": [
    "# Naive Bayes"
   ]
  },
  {
   "cell_type": "code",
   "execution_count": 142,
   "id": "bd4c477d",
   "metadata": {},
   "outputs": [
    {
     "name": "stdout",
     "output_type": "stream",
     "text": [
      "naive bayes cross_val_scores:  0.7135593220338983\n",
      "naive bayes AUC Score:  0.7159619030539044\n",
      "naive bayes fbeta Score:  0.7531760435571688\n"
     ]
    }
   ],
   "source": [
    "nb = MultinomialNB()\n",
    "naive_bayes_cross_val_scores = cross_val_score(nb, features,labels, cv=10)\n",
    "print(\"naive bayes cross_val_scores: \", naive_bayes_cross_val_scores.mean())\n",
    "\n",
    "naive_bayes_cross_val_scores_roc = cross_val_score(nb, features,labels, cv=10, scoring='roc_auc')\n",
    "print(\"naive bayes AUC Score: \", naive_bayes_cross_val_scores_roc.mean())\n",
    "\n",
    "nb.fit(X_train, y_train)\n",
    "predictions_test = nb.predict(X_test)\n",
    "print(\"naive bayes fbeta Score: \", fbeta_score(y_test, predictions_test, average='binary', beta=0.5))"
   ]
  },
  {
   "cell_type": "code",
   "execution_count": null,
   "id": "c0839283",
   "metadata": {},
   "outputs": [],
   "source": []
  }
 ],
 "metadata": {
  "kernelspec": {
   "display_name": "Python 3 (ipykernel)",
   "language": "python",
   "name": "python3"
  },
  "language_info": {
   "codemirror_mode": {
    "name": "ipython",
    "version": 3
   },
   "file_extension": ".py",
   "mimetype": "text/x-python",
   "name": "python",
   "nbconvert_exporter": "python",
   "pygments_lexer": "ipython3",
   "version": "3.7.7"
  }
 },
 "nbformat": 4,
 "nbformat_minor": 5
}
